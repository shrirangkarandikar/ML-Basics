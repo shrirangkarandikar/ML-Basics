{
 "cells": [
  {
   "cell_type": "markdown",
   "id": "4bc54000-f65b-4a4f-9245-61a2f8f60f00",
   "metadata": {},
   "source": [
    "### Input $x$\n",
    "$-\\infty \\lt x \\lt \\infty$"
   ]
  },
  {
   "cell_type": "markdown",
   "id": "9e72047b-c012-4598-83ab-f624f3801961",
   "metadata": {},
   "source": [
    "### Output $y$\n",
    "* Bounded(?) $0 \\le y \\le 1$ or $-1 \\le y \\le 1$\n",
    "\n",
    "* linear / non-linear\n",
    "\n",
    "* $y = f(x)$ must be differentiable (almost everywhere)"
   ]
  },
  {
   "cell_type": "markdown",
   "id": "de3e56b8-d8bd-4664-9fe3-26bbe8d1e42a",
   "metadata": {},
   "source": [
    "----"
   ]
  },
  {
   "cell_type": "code",
   "execution_count": null,
   "id": "0deb3d6b-4b35-4607-b98e-5c9c68e00df0",
   "metadata": {},
   "outputs": [],
   "source": [
    "import numpy as np\n",
    "import matplotlib.pyplot as plt\n",
    "import cProfile"
   ]
  },
  {
   "cell_type": "markdown",
   "id": "fd56ffac-3239-4832-bbfe-524ccd93afa7",
   "metadata": {},
   "source": [
    "## 0. Linear Transfer Function\n",
    "$f(x) = x$"
   ]
  },
  {
   "cell_type": "code",
   "execution_count": null,
   "id": "dc3ae9a6-bcc0-47e5-95be-d9feb63b4086",
   "metadata": {},
   "outputs": [],
   "source": [
    "## define it\n",
    "def linear(x):\n",
    "    return x"
   ]
  },
  {
   "cell_type": "code",
   "execution_count": null,
   "id": "71ab72d2-444f-4bc5-b50f-c3f733e5c73f",
   "metadata": {},
   "outputs": [],
   "source": [
    "## test it\n",
    "for x in np.random.rand(100):\n",
    "    assert (x == linear(x))"
   ]
  },
  {
   "cell_type": "code",
   "execution_count": null,
   "id": "1c1c1295-9287-4686-83ef-9970bf36bb0f",
   "metadata": {},
   "outputs": [],
   "source": [
    "## time it\n",
    "with cProfile.Profile() as pr:\n",
    "    x = np.random.rand(100)\n",
    "    y = [linear(_x) for _x in x]\n",
    "    pr.print_stats()\n",
    "plt.scatter(x, y)\n",
    "        "
   ]
  },
  {
   "cell_type": "markdown",
   "id": "74a2b977-6362-4c32-afc3-12274d8bb2a4",
   "metadata": {},
   "source": [
    "## 1. Step Function\n",
    "$\\begin{align}\n",
    "f(x) &=&0&\\text{ if } x \\lt 0\\\\\n",
    "     &=&1&\\text{ otherwise} \\\\\n",
    "\\end{align}$"
   ]
  },
  {
   "cell_type": "code",
   "execution_count": null,
   "id": "81bbbd32-60bb-4286-814b-cd7c89fcd510",
   "metadata": {},
   "outputs": [],
   "source": [
    "## define it\n",
    "def step(x):\n",
    "    return 0 if x < 0 else 1"
   ]
  },
  {
   "cell_type": "code",
   "execution_count": null,
   "id": "1398ed01-5e7f-479c-817a-e72da981264e",
   "metadata": {},
   "outputs": [],
   "source": [
    "## time it\n",
    "with cProfile.Profile() as pr:\n",
    "    x = np.random.rand(100)-0.5\n",
    "    y = [step(_x) for _x in x]\n",
    "    pr.print_stats()\n",
    "plt.scatter(x, y)"
   ]
  },
  {
   "cell_type": "markdown",
   "id": "f9cdbec5-ac38-4f31-8ece-6a4d3eb8212f",
   "metadata": {},
   "source": [
    "## 2. ReLU Function\n",
    "$\\begin{align}\n",
    "f(x) &=&0&\\text{ if } x \\lt 0\\\\\n",
    "     &=&x&\\text{ otherwise} \\\\\n",
    "\\end{align}$"
   ]
  },
  {
   "cell_type": "code",
   "execution_count": null,
   "id": "9ff9938c-7cd1-4c67-a78f-3127e3615179",
   "metadata": {},
   "outputs": [],
   "source": [
    "## define it\n",
    "def ReLU(x):\n",
    "    return 0 if x < 0 else x"
   ]
  },
  {
   "cell_type": "code",
   "execution_count": null,
   "id": "16a344a2-0f98-4a72-9d51-880754f19e29",
   "metadata": {},
   "outputs": [],
   "source": [
    "## time it\n",
    "with cProfile.Profile() as pr:\n",
    "    x = np.random.rand(100)-0.5\n",
    "    y = [ReLU(_x) for _x in x]\n",
    "    pr.print_stats()\n",
    "plt.scatter(x, y)"
   ]
  },
  {
   "cell_type": "markdown",
   "id": "ebef90e5-5c92-4158-ba8b-5f9048a837ac",
   "metadata": {},
   "source": [
    "## Digression: Let's generalize"
   ]
  },
  {
   "cell_type": "code",
   "execution_count": null,
   "id": "0bdc43da-1617-4fd5-8524-08f48d576115",
   "metadata": {},
   "outputs": [],
   "source": [
    "def Time_Test_Plot(foo):\n",
    "    with cProfile.Profile() as pr:\n",
    "        x = np.random.rand(100)-0.5\n",
    "        y = [foo(_x) for _x in x]\n",
    "        pr.print_stats()\n",
    "    plt.scatter(x, y)"
   ]
  },
  {
   "cell_type": "code",
   "execution_count": null,
   "id": "2f5f0f19-4303-4e58-975b-1050799008b7",
   "metadata": {},
   "outputs": [],
   "source": [
    "Time_Test_Plot(step)"
   ]
  },
  {
   "cell_type": "markdown",
   "id": "ba6c2ea3-0ac4-483e-ba23-c8b4f33bda42",
   "metadata": {},
   "source": [
    "## Digression: Let's generalize some more!"
   ]
  },
  {
   "cell_type": "code",
   "execution_count": null,
   "id": "10717731-0e93-4b8b-aa98-39762177de9b",
   "metadata": {},
   "outputs": [],
   "source": [
    "def Time_Test_Plots(foo):\n",
    "    if isinstance(foo, list) or isinstance(foo, tuple):\n",
    "        fig, ax = plt.subplots(1, len(foo), figsize=(25,8))\n",
    "        with cProfile.Profile() as pr:\n",
    "            for f, a in zip(foo, ax):\n",
    "                x = np.random.rand(100)-0.5\n",
    "                y = [f(_x) for _x in x]\n",
    "                #pr.print_stats()\n",
    "                a.scatter(x, y)\n",
    "                a.set_title(f.__name__)\n",
    "    else:\n",
    "        with cProfile.Profile() as pr:\n",
    "            x = np.random.rand(100)-0.5\n",
    "            y = [foo(_x) for _x in x]\n",
    "            plt.scatter(x, y)\n",
    "            plt.title(foo.__name__)\n",
    "        \n",
    "    plt.show()"
   ]
  },
  {
   "cell_type": "code",
   "execution_count": null,
   "id": "0bef9e34-f65e-4030-9c33-316d0aaa51b3",
   "metadata": {},
   "outputs": [],
   "source": [
    "Time_Test_Plots((step, ReLU, linear, linear))\n",
    "#Time_Test_Plots(step)"
   ]
  },
  {
   "cell_type": "markdown",
   "id": "f574fd1a-93c1-4cb2-b702-9d9aad202098",
   "metadata": {},
   "source": [
    "#### End Digression\n",
    "-------"
   ]
  },
  {
   "cell_type": "markdown",
   "id": "6542adc8-ea0d-43b7-b71d-9f93f4abcdf7",
   "metadata": {},
   "source": [
    "## 3. Sigmoid\n",
    "$\n",
    "f(x) = \\frac{1}{1+e^{-x}}$"
   ]
  },
  {
   "cell_type": "code",
   "execution_count": null,
   "id": "de27a3dc-60fc-4bfb-8f13-311bb86fbf17",
   "metadata": {},
   "outputs": [],
   "source": [
    "def sigmoid(x):\n",
    "    return 1/(1+np.exp(-1*x))"
   ]
  },
  {
   "cell_type": "code",
   "execution_count": null,
   "id": "9f217f51-bc83-41f4-bca1-6bd7cd4602fd",
   "metadata": {},
   "outputs": [],
   "source": [
    "tx = []\n",
    "ty = []\n",
    "for x in np.arange(-10, 10, .1):\n",
    "    tx.append(x)\n",
    "    ty.append(sigmoid(x))\n",
    "plt.scatter(tx, ty)"
   ]
  },
  {
   "cell_type": "code",
   "execution_count": null,
   "id": "58f7d9d2-46ba-4246-ab39-d9dbdeb8cebd",
   "metadata": {},
   "outputs": [],
   "source": [
    "Time_Test_Plots(sigmoid)"
   ]
  },
  {
   "cell_type": "markdown",
   "id": "7059c343-a8db-4169-828d-c14bd3b52a8e",
   "metadata": {},
   "source": [
    "### tanh\n",
    "$\n",
    "\\tanh(x) = \\frac{1-e^{-2x}}{1+e^{-2x}}\n",
    "$"
   ]
  },
  {
   "cell_type": "code",
   "execution_count": null,
   "id": "9e3d9207-4f3e-4f17-9eed-bee626a0f4fa",
   "metadata": {},
   "outputs": [],
   "source": [
    "def tanh(x):\n",
    "    return (1-np.exp(-2*x))/(1+np.exp(-2*x))"
   ]
  },
  {
   "cell_type": "code",
   "execution_count": null,
   "id": "1cc956c1-833f-4e89-b6f9-9f0163bb37d7",
   "metadata": {},
   "outputs": [],
   "source": [
    "tx = []\n",
    "ty = []\n",
    "for x in np.arange(-10, 10, .1):\n",
    "    tx.append(x)\n",
    "    ty.append(tanh(x))\n",
    "plt.scatter(tx, ty)"
   ]
  },
  {
   "cell_type": "markdown",
   "id": "66b1bf07-6dc0-4368-bebc-f9c62d097284",
   "metadata": {},
   "source": [
    "## 4. Applying the function to an entire vector"
   ]
  },
  {
   "cell_type": "code",
   "execution_count": null,
   "id": "512e200e-6205-4a27-907a-77d36058310f",
   "metadata": {},
   "outputs": [],
   "source": [
    "x = np.random.rand(100)"
   ]
  },
  {
   "cell_type": "code",
   "execution_count": null,
   "id": "d455073c-fd30-4f2f-b026-59030c35ef1b",
   "metadata": {},
   "outputs": [],
   "source": [
    "y = tanh(x)"
   ]
  },
  {
   "cell_type": "code",
   "execution_count": null,
   "id": "7a8fa01b-304c-41f0-822b-a35b318ba2ef",
   "metadata": {},
   "outputs": [],
   "source": [
    "plt.scatter(x, y)"
   ]
  },
  {
   "cell_type": "code",
   "execution_count": null,
   "id": "b11b2790-1f4a-4620-ae76-2acf7221d2c2",
   "metadata": {},
   "outputs": [],
   "source": [
    "y = step(x)"
   ]
  },
  {
   "cell_type": "code",
   "execution_count": null,
   "id": "cb7e322b-a8bb-4b44-8594-dd8701615b6b",
   "metadata": {},
   "outputs": [],
   "source": [
    "step_v = np.vectorize(step)"
   ]
  },
  {
   "cell_type": "code",
   "execution_count": null,
   "id": "82cdb6c3-a80a-4d86-b47d-725de6f75f97",
   "metadata": {},
   "outputs": [],
   "source": [
    "x = np.random.rand(100) - 0.5\n",
    "y = step_v(x)"
   ]
  },
  {
   "cell_type": "code",
   "execution_count": null,
   "id": "f430672c-bf72-4b56-b2e4-696419fbbcfc",
   "metadata": {},
   "outputs": [],
   "source": [
    "plt.scatter(x, y)"
   ]
  }
 ],
 "metadata": {
  "language_info": {
   "name": "python",
   "pygments_lexer": "ipython3"
  }
 },
 "nbformat": 4,
 "nbformat_minor": 5
}
