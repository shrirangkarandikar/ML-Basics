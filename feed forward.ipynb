{
 "cells": [
  {
   "cell_type": "code",
   "execution_count": null,
   "id": "70163b19-8314-44b4-9da3-a5171ce96336",
   "metadata": {},
   "outputs": [],
   "source": [
    "import numpy as np\n",
    "import matplotlib.pyplot as plt\n",
    "import logging\n",
    "import cProfile ## this isn't reporting runtime for matmul, need to debug!\n",
    "import time"
   ]
  },
  {
   "cell_type": "markdown",
   "id": "29a20a7b-a96f-4f62-819d-295c70a63290",
   "metadata": {},
   "source": [
    "## Core Operations\n",
    "* vector - vector dot product\n",
    "* matrix - vector product\n",
    "* matrix - matrix product\n",
    "---\n",
    "### 1. vector - vector dot product"
   ]
  },
  {
   "cell_type": "code",
   "execution_count": null,
   "id": "913324af-7995-4940-9b75-866c09cd0639",
   "metadata": {},
   "outputs": [],
   "source": [
    "# define it\n",
    "# input: wv and xv, vectors of equal length (not being checked)\n",
    "# output: dot product of wv and xv\n",
    "def v_v(wv, xv):\n",
    "    total = 0\n",
    "    for w, x in zip(wv, xv):\n",
    "        total += w * x\n",
    "    return total"
   ]
  },
  {
   "cell_type": "code",
   "execution_count": null,
   "id": "aa624078-f11d-4dcd-92c1-67f151954555",
   "metadata": {},
   "outputs": [],
   "source": [
    "# test it\n",
    "w = np.random.rand(10)\n",
    "x = np.ones_like(w)\n",
    "print(v_v(w, x))\n",
    "print(np.sum(w))"
   ]
  },
  {
   "cell_type": "code",
   "execution_count": null,
   "id": "2f4af327-6d34-47c4-849b-9cec445cea48",
   "metadata": {},
   "outputs": [],
   "source": [
    "# time it\n",
    "w = np.random.rand(100000)\n",
    "x = np.random.rand(100000)\n",
    "with cProfile.Profile() as pr:\n",
    "    t = v_v(w, x)\n",
    "    pr.print_stats()\n",
    "print(t)    "
   ]
  },
  {
   "cell_type": "code",
   "execution_count": null,
   "id": "9735b3f8-e28d-43ac-b1b6-688aa7fbd080",
   "metadata": {},
   "outputs": [],
   "source": [
    "## time it\n",
    "with cProfile.Profile() as pr:\n",
    "    t = np.dot(w, x)\n",
    "    t = v_v(w, x)\n",
    "    pr.print_stats()\n",
    "print(t)    "
   ]
  },
  {
   "cell_type": "code",
   "execution_count": null,
   "id": "a2767e47-7721-4381-aac7-2f8366c4be32",
   "metadata": {},
   "outputs": [],
   "source": [
    "w = np.random.rand(784)\n",
    "x = np.random.rand(784)"
   ]
  },
  {
   "cell_type": "markdown",
   "id": "5f966feb-d7d0-43ca-b2c6-ea8506b669cf",
   "metadata": {},
   "source": [
    "## 2. Matrix-Vector product"
   ]
  },
  {
   "cell_type": "code",
   "execution_count": null,
   "id": "30e7ef00-34f1-45f5-b6a0-84de98f13b11",
   "metadata": {},
   "outputs": [],
   "source": [
    "# define it\n",
    "# input: wm is a mxn matrix xv is a vector of equal length n (not being checked)\n",
    "# output: vector that is the product of wm and xv\n",
    "def m_v(wm, xv):\n",
    "    total = []\n",
    "    for wv in wm:\n",
    "        #print(wv.shape, xv.shape)\n",
    "        total.append(v_v(wv, xv))\n",
    "    return total"
   ]
  },
  {
   "cell_type": "code",
   "execution_count": null,
   "id": "34576fd4-6ca5-4c5b-a9e3-371098795b3e",
   "metadata": {},
   "outputs": [],
   "source": [
    "# test it\n",
    "w = np.random.rand(10, 10)\n",
    "x = np.ones(10)\n",
    "print(m_v(w, x))\n",
    "print(np.sum(w))"
   ]
  },
  {
   "cell_type": "code",
   "execution_count": null,
   "id": "f4543af7-2253-4a94-b1ec-a0e8527bddc7",
   "metadata": {},
   "outputs": [],
   "source": [
    "# time it\n",
    "w = np.random.rand(100000)\n",
    "x = np.random.rand(100000)\n",
    "with cProfile.Profile() as pr:\n",
    "    t = v_v(w, x)\n",
    "    pr.print_stats()\n",
    "print(t)    "
   ]
  },
  {
   "cell_type": "code",
   "execution_count": null,
   "id": "620d6696-918b-4b27-aa27-f3c7c657bc22",
   "metadata": {},
   "outputs": [],
   "source": [
    "w = np.random.rand(100, 784)\n",
    "x = np.random.rand(784)"
   ]
  },
  {
   "cell_type": "code",
   "execution_count": null,
   "id": "d206cf85-cf07-41dc-8577-97763468a275",
   "metadata": {},
   "outputs": [],
   "source": [
    "## time it\n",
    "\n",
    "print(w.shape, x.shape)\n",
    "with cProfile.Profile() as pr:\n",
    "    for i in range(3):\n",
    "        t1 = np.matmul(w, w)\n",
    "    #t2 = m_v(w, x)\n",
    "    pr.print_stats(sort='time')\n",
    "#print(t1.shape, len(t2))"
   ]
  },
  {
   "cell_type": "code",
   "execution_count": null,
   "id": "67b5d944-394a-494e-aa5d-dd2c59d9dc88",
   "metadata": {},
   "outputs": [],
   "source": [
    "print(w.shape, x.shape)\n",
    "start = time.perf_counter()\n",
    "np.matmul(w, x)\n",
    "end = time.perf_counter()\n",
    "print(\"numpy: \", end - start)\n",
    "start = time.perf_counter()\n",
    "m_v(w, x)\n",
    "end = time.perf_counter()\n",
    "print(\"m_v: \", end - start)\n",
    "\n",
    "#print(t1.shape, len(t2))"
   ]
  },
  {
   "cell_type": "code",
   "execution_count": null,
   "id": "f4d32abe-5e79-43f7-a5ae-a872a4786bd8",
   "metadata": {},
   "outputs": [],
   "source": []
  },
  {
   "cell_type": "markdown",
   "id": "d7836c5b-9256-47ae-8ca0-3aab701e7264",
   "metadata": {},
   "source": [
    "## 3. Matrix-Matrix product"
   ]
  },
  {
   "cell_type": "code",
   "execution_count": null,
   "id": "227ef78e-7dcc-4069-8391-5f12ca9b520f",
   "metadata": {},
   "outputs": [],
   "source": [
    "# define it\n",
    "# input: wm is a mxn matrix xm is a nxk matrix  (not being checked)\n",
    "# output: matrix that is the product of wm and xm\n",
    "def m_m(wm, xm):\n",
    "    total = []\n",
    "    for w, x in zip(wm, xm.T):\n",
    "        #print(wv.shape, xv.shape)\n",
    "        total.append(v_v(w, x))\n",
    "    return total"
   ]
  },
  {
   "cell_type": "code",
   "execution_count": null,
   "id": "eb909da3-37b9-4df8-be65-11044c59d0cf",
   "metadata": {},
   "outputs": [],
   "source": [
    "w = np.random.rand(100, 784)\n",
    "x = np.random.rand(784, 100)"
   ]
  },
  {
   "cell_type": "code",
   "execution_count": null,
   "id": "ace1987a-7c6a-4e5a-bdd1-f4c4679066c4",
   "metadata": {},
   "outputs": [],
   "source": [
    "# test it\n",
    "w = np.random.rand(10, 10)\n",
    "x = np.ones((10, 10))\n",
    "print(m_m(w, x))\n",
    "print(np.sum(w))"
   ]
  },
  {
   "cell_type": "code",
   "execution_count": null,
   "id": "bd17f255-1535-4c2b-8cc5-e6110ebd2946",
   "metadata": {},
   "outputs": [],
   "source": [
    "# time it\n",
    "start = time.perf_counter()\n",
    "t = np.matmul(w, x)\n",
    "end = time.perf_counter()\n",
    "print(\"np matmul: \", end - start);\n",
    "start = time.perf_counter()\n",
    "t = m_m(w, x)\n",
    "end = time.perf_counter()\n",
    "print(\"m_m: \", end - start)"
   ]
  }
 ],
 "metadata": {
  "language_info": {
   "name": "python",
   "pygments_lexer": "ipython3"
  }
 },
 "nbformat": 4,
 "nbformat_minor": 5
}
