{
 "cells": [
  {
   "cell_type": "code",
   "execution_count": null,
   "id": "1e4f5705-23f1-4555-bbbe-5f16ef61dd45",
   "metadata": {},
   "outputs": [],
   "source": [
    "import numpy as np\n",
    "import matplotlib.pyplot as plt\n",
    "import logging\n",
    "import time"
   ]
  },
  {
   "cell_type": "markdown",
   "id": "d9e75181-62a0-4ac1-b355-e43aa1520ef7",
   "metadata": {},
   "source": [
    "### $0-1$ Loss\n",
    "\n",
    "$ \\mathcal{L}_{01}(h:D) = \\frac{1}{n}\\Sigma_{i, \\overrightarrow{x}, y \\in D} \\delta[h(\\overrightarrow{x_i}) \\ne y_i]$\n",
    "\n",
    "$\\begin{align}\n",
    "\\delta & = & 1 & \\text{ if } h(\\overrightarrow{x_i}) \\ne y_i \\\\\n",
    "       & = & 0 & \\text{ otherwise} \\\\\n",
    "\\end{align}\n",
    "$"
   ]
  },
  {
   "cell_type": "markdown",
   "id": "db0709fd-b09c-4b67-8d7f-bdf8fe34e467",
   "metadata": {},
   "source": [
    "### Squared Loss\n",
    "\n",
    "$ \\mathcal{L}_{\\text{sq}}(h:D) = \\frac{1}{n}\\Sigma_i (h(\\overrightarrow{x_i}) - y_i)^2$\n"
   ]
  },
  {
   "cell_type": "markdown",
   "id": "e1e97827-1461-4e6d-9822-435221806888",
   "metadata": {},
   "source": [
    "### Minkowski Distance\n",
    "\n",
    "$ d(x, z) = \\Sigma_{r=1}^d(|x_r - z_r|^p)^\\frac{1}{p}$\n",
    "\n",
    "* $p = 1$: Manhattan distance\n",
    "* $p = 2$: Euclidean distance\n",
    "* $p = \\infty$"
   ]
  },
  {
   "cell_type": "code",
   "execution_count": null,
   "id": "fe475145-b9e7-4936-9bd6-81bbee9334a8",
   "metadata": {},
   "outputs": [],
   "source": []
  },
  {
   "cell_type": "code",
   "execution_count": null,
   "id": "b2d38945-a5de-4369-874b-e775d3ea90c0",
   "metadata": {},
   "outputs": [],
   "source": []
  }
 ],
 "metadata": {
  "language_info": {
   "name": "python",
   "pygments_lexer": "ipython3"
  }
 },
 "nbformat": 4,
 "nbformat_minor": 5
}
